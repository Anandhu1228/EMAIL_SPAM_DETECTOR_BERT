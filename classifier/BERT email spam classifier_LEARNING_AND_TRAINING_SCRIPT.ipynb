{
 "cells": [
  {
   "cell_type": "code",
   "execution_count": 1,
   "metadata": {},
   "outputs": [],
   "source": [
    "import tensorflow as tf\n",
    "import tensorflow_hub as hub\n",
    "import tensorflow_text as text"
   ]
  },
  {
   "cell_type": "code",
   "execution_count": 2,
   "metadata": {},
   "outputs": [],
   "source": [
    "preprocessor_url = \"https://kaggle.com/models/tensorflow/bert/TensorFlow2/en-uncased-preprocess/3\"\n",
    "encoder_url = \"https://www.kaggle.com/models/tensorflow/bert/TensorFlow2/en-uncased-l-12-h-768-a-12/4\""
   ]
  },
  {
   "cell_type": "code",
   "execution_count": 3,
   "metadata": {},
   "outputs": [
    {
     "data": {
      "text/html": [
       "<div>\n",
       "<style scoped>\n",
       "    .dataframe tbody tr th:only-of-type {\n",
       "        vertical-align: middle;\n",
       "    }\n",
       "\n",
       "    .dataframe tbody tr th {\n",
       "        vertical-align: top;\n",
       "    }\n",
       "\n",
       "    .dataframe thead th {\n",
       "        text-align: right;\n",
       "    }\n",
       "</style>\n",
       "<table border=\"1\" class=\"dataframe\">\n",
       "  <thead>\n",
       "    <tr style=\"text-align: right;\">\n",
       "      <th></th>\n",
       "      <th>Category</th>\n",
       "      <th>Message</th>\n",
       "    </tr>\n",
       "  </thead>\n",
       "  <tbody>\n",
       "    <tr>\n",
       "      <th>0</th>\n",
       "      <td>ham</td>\n",
       "      <td>Go until jurong point, crazy.. Available only ...</td>\n",
       "    </tr>\n",
       "    <tr>\n",
       "      <th>1</th>\n",
       "      <td>ham</td>\n",
       "      <td>Ok lar... Joking wif u oni...</td>\n",
       "    </tr>\n",
       "    <tr>\n",
       "      <th>2</th>\n",
       "      <td>spam</td>\n",
       "      <td>Free entry in 2 a wkly comp to win FA Cup fina...</td>\n",
       "    </tr>\n",
       "    <tr>\n",
       "      <th>3</th>\n",
       "      <td>ham</td>\n",
       "      <td>U dun say so early hor... U c already then say...</td>\n",
       "    </tr>\n",
       "    <tr>\n",
       "      <th>4</th>\n",
       "      <td>ham</td>\n",
       "      <td>Nah I don't think he goes to usf, he lives aro...</td>\n",
       "    </tr>\n",
       "  </tbody>\n",
       "</table>\n",
       "</div>"
      ],
      "text/plain": [
       "  Category                                            Message\n",
       "0      ham  Go until jurong point, crazy.. Available only ...\n",
       "1      ham                      Ok lar... Joking wif u oni...\n",
       "2     spam  Free entry in 2 a wkly comp to win FA Cup fina...\n",
       "3      ham  U dun say so early hor... U c already then say...\n",
       "4      ham  Nah I don't think he goes to usf, he lives aro..."
      ]
     },
     "execution_count": 3,
     "metadata": {},
     "output_type": "execute_result"
    }
   ],
   "source": [
    "import pandas as pd\n",
    "df = pd.read_csv(\"email.csv\")\n",
    "df.head()"
   ]
  },
  {
   "cell_type": "code",
   "execution_count": 4,
   "metadata": {},
   "outputs": [
    {
     "data": {
      "text/plain": [
       "Category\n",
       "ham               4825\n",
       "spam               747\n",
       "{\"mode\":\"full\"       1\n",
       "Name: count, dtype: int64"
      ]
     },
     "execution_count": 4,
     "metadata": {},
     "output_type": "execute_result"
    }
   ],
   "source": [
    "df['Category'].value_counts()\n",
    "\n",
    "# IMBALANCE DETECTED"
   ]
  },
  {
   "cell_type": "code",
   "execution_count": 5,
   "metadata": {},
   "outputs": [],
   "source": [
    "# down_up_sample_size = 1000\n",
    "\n",
    "# PLANNING TO UPSAMPLE SPAM A LITTLE BIT AND DOWNSAMPLE HAM"
   ]
  },
  {
   "cell_type": "code",
   "execution_count": 6,
   "metadata": {},
   "outputs": [
    {
     "name": "stdout",
     "output_type": "stream",
     "text": [
      "DOWN SAMPLED HAM :  (747, 2)\n",
      "\n"
     ]
    },
    {
     "name": "stderr",
     "output_type": "stream",
     "text": [
      "C:\\Users\\Anandhu\\AppData\\Local\\Temp\\ipykernel_14300\\3961491637.py:6: FutureWarning: Series.__getitem__ treating keys as positions is deprecated. In a future version, integer keys will always be treated as labels (consistent with DataFrame behavior). To access a value by position, use `ser.iloc[pos]`\n",
      "  ham_samp = ham_df.sample(n=df['Category'].value_counts()[1], random_state=42)\n"
     ]
    }
   ],
   "source": [
    "# from imblearn.over_sampling import SMOTE\n",
    "\n",
    "ham_df = df[df['Category'] == 'ham']\n",
    "spam_df = df[df['Category'] == 'spam']\n",
    "\n",
    "ham_samp = ham_df.sample(n=df['Category'].value_counts()[1], random_state=42)\n",
    "print(\"DOWN SAMPLED HAM : \",ham_samp.shape, end=\"\\n\\n\")\n",
    "\n",
    "# ndf = pd.concat((ham_samp,spam_df), axis=0)\n",
    "\n",
    "# x = ndf.drop(columns=\"Category\")\n",
    "# y = ndf[\"Category\"]\n",
    "\n",
    "# smote = SMOTE(sampling_strategy={'spam': 1000}, random_state=42)\n",
    "\n",
    "# x_smote, y_smote = smote.fit_resample(x, y)\n",
    "\n",
    "# print(\"Class Distribution After SMOTE:\\n\", y_smote.value_counts())\n",
    "# print(\"AFTER SAMPLING: \", x_smote.shape, end=\"\\n\\n\")\n",
    "\n",
    "nrdf = pd.concat((ham_samp,spam_df),axis=0)"
   ]
  },
  {
   "cell_type": "code",
   "execution_count": 7,
   "metadata": {},
   "outputs": [
    {
     "data": {
      "text/html": [
       "<div>\n",
       "<style scoped>\n",
       "    .dataframe tbody tr th:only-of-type {\n",
       "        vertical-align: middle;\n",
       "    }\n",
       "\n",
       "    .dataframe tbody tr th {\n",
       "        vertical-align: top;\n",
       "    }\n",
       "\n",
       "    .dataframe thead th {\n",
       "        text-align: right;\n",
       "    }\n",
       "</style>\n",
       "<table border=\"1\" class=\"dataframe\">\n",
       "  <thead>\n",
       "    <tr style=\"text-align: right;\">\n",
       "      <th></th>\n",
       "      <th>Category</th>\n",
       "      <th>Message</th>\n",
       "    </tr>\n",
       "  </thead>\n",
       "  <tbody>\n",
       "    <tr>\n",
       "      <th>0</th>\n",
       "      <td>ham</td>\n",
       "      <td>If i not meeting ü all rite then i'll go home ...</td>\n",
       "    </tr>\n",
       "    <tr>\n",
       "      <th>1</th>\n",
       "      <td>ham</td>\n",
       "      <td>I.ll always be there, even if its just in spir...</td>\n",
       "    </tr>\n",
       "    <tr>\n",
       "      <th>2</th>\n",
       "      <td>ham</td>\n",
       "      <td>Sorry that took so long, omw now</td>\n",
       "    </tr>\n",
       "    <tr>\n",
       "      <th>3</th>\n",
       "      <td>ham</td>\n",
       "      <td>I thk 50 shd be ok he said plus minus 10.. Did...</td>\n",
       "    </tr>\n",
       "    <tr>\n",
       "      <th>4</th>\n",
       "      <td>ham</td>\n",
       "      <td>Dunno i juz askin cos i got a card got 20% off...</td>\n",
       "    </tr>\n",
       "    <tr>\n",
       "      <th>...</th>\n",
       "      <td>...</td>\n",
       "      <td>...</td>\n",
       "    </tr>\n",
       "    <tr>\n",
       "      <th>1489</th>\n",
       "      <td>spam</td>\n",
       "      <td>Want explicit SEX in 30 secs? Ring 02073162414...</td>\n",
       "    </tr>\n",
       "    <tr>\n",
       "      <th>1490</th>\n",
       "      <td>spam</td>\n",
       "      <td>ASKED 3MOBILE IF 0870 CHATLINES INCLU IN FREE ...</td>\n",
       "    </tr>\n",
       "    <tr>\n",
       "      <th>1491</th>\n",
       "      <td>spam</td>\n",
       "      <td>Had your contract mobile 11 Mnths? Latest Moto...</td>\n",
       "    </tr>\n",
       "    <tr>\n",
       "      <th>1492</th>\n",
       "      <td>spam</td>\n",
       "      <td>REMINDER FROM O2: To get 2.50 pounds free call...</td>\n",
       "    </tr>\n",
       "    <tr>\n",
       "      <th>1493</th>\n",
       "      <td>spam</td>\n",
       "      <td>This is the 2nd time we have tried 2 contact u...</td>\n",
       "    </tr>\n",
       "  </tbody>\n",
       "</table>\n",
       "<p>1494 rows × 2 columns</p>\n",
       "</div>"
      ],
      "text/plain": [
       "     Category                                            Message\n",
       "0         ham  If i not meeting ü all rite then i'll go home ...\n",
       "1         ham  I.ll always be there, even if its just in spir...\n",
       "2         ham                   Sorry that took so long, omw now\n",
       "3         ham  I thk 50 shd be ok he said plus minus 10.. Did...\n",
       "4         ham  Dunno i juz askin cos i got a card got 20% off...\n",
       "...       ...                                                ...\n",
       "1489     spam  Want explicit SEX in 30 secs? Ring 02073162414...\n",
       "1490     spam  ASKED 3MOBILE IF 0870 CHATLINES INCLU IN FREE ...\n",
       "1491     spam  Had your contract mobile 11 Mnths? Latest Moto...\n",
       "1492     spam  REMINDER FROM O2: To get 2.50 pounds free call...\n",
       "1493     spam  This is the 2nd time we have tried 2 contact u...\n",
       "\n",
       "[1494 rows x 2 columns]"
      ]
     },
     "execution_count": 7,
     "metadata": {},
     "output_type": "execute_result"
    }
   ],
   "source": [
    "nrdf.shape\n",
    "nrdf.reset_index(drop=True,inplace=True)\n",
    "nrdf"
   ]
  },
  {
   "cell_type": "code",
   "execution_count": 8,
   "metadata": {},
   "outputs": [
    {
     "data": {
      "text/html": [
       "<div>\n",
       "<style scoped>\n",
       "    .dataframe tbody tr th:only-of-type {\n",
       "        vertical-align: middle;\n",
       "    }\n",
       "\n",
       "    .dataframe tbody tr th {\n",
       "        vertical-align: top;\n",
       "    }\n",
       "\n",
       "    .dataframe thead th {\n",
       "        text-align: right;\n",
       "    }\n",
       "</style>\n",
       "<table border=\"1\" class=\"dataframe\">\n",
       "  <thead>\n",
       "    <tr style=\"text-align: right;\">\n",
       "      <th></th>\n",
       "      <th>Category</th>\n",
       "      <th>Message</th>\n",
       "      <th>spam</th>\n",
       "    </tr>\n",
       "  </thead>\n",
       "  <tbody>\n",
       "    <tr>\n",
       "      <th>0</th>\n",
       "      <td>ham</td>\n",
       "      <td>If i not meeting ü all rite then i'll go home ...</td>\n",
       "      <td>0</td>\n",
       "    </tr>\n",
       "    <tr>\n",
       "      <th>1</th>\n",
       "      <td>ham</td>\n",
       "      <td>I.ll always be there, even if its just in spir...</td>\n",
       "      <td>0</td>\n",
       "    </tr>\n",
       "    <tr>\n",
       "      <th>2</th>\n",
       "      <td>ham</td>\n",
       "      <td>Sorry that took so long, omw now</td>\n",
       "      <td>0</td>\n",
       "    </tr>\n",
       "    <tr>\n",
       "      <th>3</th>\n",
       "      <td>ham</td>\n",
       "      <td>I thk 50 shd be ok he said plus minus 10.. Did...</td>\n",
       "      <td>0</td>\n",
       "    </tr>\n",
       "    <tr>\n",
       "      <th>4</th>\n",
       "      <td>ham</td>\n",
       "      <td>Dunno i juz askin cos i got a card got 20% off...</td>\n",
       "      <td>0</td>\n",
       "    </tr>\n",
       "    <tr>\n",
       "      <th>...</th>\n",
       "      <td>...</td>\n",
       "      <td>...</td>\n",
       "      <td>...</td>\n",
       "    </tr>\n",
       "    <tr>\n",
       "      <th>1489</th>\n",
       "      <td>spam</td>\n",
       "      <td>Want explicit SEX in 30 secs? Ring 02073162414...</td>\n",
       "      <td>1</td>\n",
       "    </tr>\n",
       "    <tr>\n",
       "      <th>1490</th>\n",
       "      <td>spam</td>\n",
       "      <td>ASKED 3MOBILE IF 0870 CHATLINES INCLU IN FREE ...</td>\n",
       "      <td>1</td>\n",
       "    </tr>\n",
       "    <tr>\n",
       "      <th>1491</th>\n",
       "      <td>spam</td>\n",
       "      <td>Had your contract mobile 11 Mnths? Latest Moto...</td>\n",
       "      <td>1</td>\n",
       "    </tr>\n",
       "    <tr>\n",
       "      <th>1492</th>\n",
       "      <td>spam</td>\n",
       "      <td>REMINDER FROM O2: To get 2.50 pounds free call...</td>\n",
       "      <td>1</td>\n",
       "    </tr>\n",
       "    <tr>\n",
       "      <th>1493</th>\n",
       "      <td>spam</td>\n",
       "      <td>This is the 2nd time we have tried 2 contact u...</td>\n",
       "      <td>1</td>\n",
       "    </tr>\n",
       "  </tbody>\n",
       "</table>\n",
       "<p>1494 rows × 3 columns</p>\n",
       "</div>"
      ],
      "text/plain": [
       "     Category                                            Message  spam\n",
       "0         ham  If i not meeting ü all rite then i'll go home ...     0\n",
       "1         ham  I.ll always be there, even if its just in spir...     0\n",
       "2         ham                   Sorry that took so long, omw now     0\n",
       "3         ham  I thk 50 shd be ok he said plus minus 10.. Did...     0\n",
       "4         ham  Dunno i juz askin cos i got a card got 20% off...     0\n",
       "...       ...                                                ...   ...\n",
       "1489     spam  Want explicit SEX in 30 secs? Ring 02073162414...     1\n",
       "1490     spam  ASKED 3MOBILE IF 0870 CHATLINES INCLU IN FREE ...     1\n",
       "1491     spam  Had your contract mobile 11 Mnths? Latest Moto...     1\n",
       "1492     spam  REMINDER FROM O2: To get 2.50 pounds free call...     1\n",
       "1493     spam  This is the 2nd time we have tried 2 contact u...     1\n",
       "\n",
       "[1494 rows x 3 columns]"
      ]
     },
     "execution_count": 8,
     "metadata": {},
     "output_type": "execute_result"
    }
   ],
   "source": [
    "nrdf['spam'] = nrdf['Category'].apply(lambda x: 1 if x==\"spam\" else 0)\n",
    "nrdf"
   ]
  },
  {
   "cell_type": "code",
   "execution_count": 9,
   "metadata": {},
   "outputs": [],
   "source": [
    "from sklearn.model_selection import train_test_split\n",
    "\n",
    "x = nrdf['Message']\n",
    "y = nrdf['spam']\n",
    "\n",
    "x_train,x_test,y_train,y_test = train_test_split(x,y,test_size=0.25,stratify=y)"
   ]
  },
  {
   "cell_type": "code",
   "execution_count": 10,
   "metadata": {},
   "outputs": [],
   "source": [
    "bert_preprocessor = hub.KerasLayer(preprocessor_url)\n",
    "bert_model = hub.KerasLayer(encoder_url)"
   ]
  },
  {
   "cell_type": "code",
   "execution_count": 11,
   "metadata": {},
   "outputs": [
    {
     "data": {
      "text/plain": [
       "<tf.Tensor: shape=(2, 768), dtype=float32, numpy=\n",
       "array([[-0.843517  , -0.5132726 , -0.8884572 , ..., -0.74748856,\n",
       "        -0.7531473 ,  0.91964483],\n",
       "       [-0.8720835 , -0.50543964, -0.94446677, ..., -0.8584752 ,\n",
       "        -0.7174535 ,  0.8808299 ]], dtype=float32)>"
      ]
     },
     "execution_count": 11,
     "metadata": {},
     "output_type": "execute_result"
    }
   ],
   "source": [
    "def get_sentence_embeding(sent):\n",
    "    text_process = bert_preprocessor(sent)\n",
    "    return bert_model(text_process)['pooled_output']\n",
    "\n",
    "get_sentence_embeding([\n",
    "    \"500$ discount. hurry up\", \n",
    "    \"Bhavin, are you up for a volleybal game tomorrow?\"]\n",
    ")"
   ]
  },
  {
   "cell_type": "code",
   "execution_count": 49,
   "metadata": {},
   "outputs": [
    {
     "data": {
      "text/plain": [
       "<tf.Tensor: shape=(6, 768), dtype=float32, numpy=\n",
       "array([[-0.8730652 , -0.33146092,  0.16977945, ...,  0.24551818,\n",
       "        -0.5866142 ,  0.88194287],\n",
       "       [-0.88194925, -0.27421173,  0.02269693, ...,  0.13067822,\n",
       "        -0.62093174,  0.8629443 ],\n",
       "       [-0.87140787, -0.2613149 ,  0.24596833, ...,  0.23648252,\n",
       "        -0.5967673 ,  0.8534443 ],\n",
       "       [-0.8782035 , -0.25188845, -0.09536216, ...,  0.18167253,\n",
       "        -0.59779644,  0.8711839 ],\n",
       "       [-0.8540849 , -0.17408368,  0.23000976, ...,  0.22893879,\n",
       "        -0.55810857,  0.85165477],\n",
       "       [-0.94426244, -0.39026305, -0.28032622, ..., -0.13074909,\n",
       "        -0.69187725,  0.9182145 ]], dtype=float32)>"
      ]
     },
     "execution_count": 49,
     "metadata": {},
     "output_type": "execute_result"
    }
   ],
   "source": [
    "word_emb_ed = get_sentence_embeding([\n",
    "    \"elephant\", \n",
    "    \"australia\",\n",
    "    \"america\",\n",
    "    \"girraffe\",\n",
    "    \"grape\",\n",
    "    \"india\"\n",
    "]\n",
    ")\n",
    "\n",
    "# JUST DEFINED FOR RETURNING THE NAME IN THE BELOW FUNCTION\n",
    "word_embed_label = [ \"elephant\", \"australia\",\"america\",\"girraffe\",\"grape\",\"india\"]\n",
    "\n",
    "word_emb_ed"
   ]
  },
  {
   "cell_type": "code",
   "execution_count": 26,
   "metadata": {},
   "outputs": [
    {
     "data": {
      "text/plain": [
       "(0.9893999, 'australia', 'america')"
      ]
     },
     "execution_count": 26,
     "metadata": {},
     "output_type": "execute_result"
    }
   ],
   "source": [
    "from sklearn.metrics.pairwise import cosine_similarity\n",
    "\n",
    "def return_cosine_sim(w1,w2):\n",
    "    return cosine_similarity([word_emb_ed[w1]],[word_emb_ed[w2]])[0][0], word_embed_label[w1], word_embed_label[w2]\n",
    "    # EXPECTS A TWO DIMENSIONAL ARRAY\n",
    "\n",
    "return_cosine_sim(1,2)\n"
   ]
  },
  {
   "cell_type": "code",
   "execution_count": 27,
   "metadata": {},
   "outputs": [
    {
     "data": {
      "text/plain": [
       "(0.99101883, 'australia', 'girraffe')"
      ]
     },
     "execution_count": 27,
     "metadata": {},
     "output_type": "execute_result"
    }
   ],
   "source": [
    "return_cosine_sim(1,3)"
   ]
  },
  {
   "cell_type": "code",
   "execution_count": 28,
   "metadata": {},
   "outputs": [
    {
     "data": {
      "text/plain": [
       "(0.9857625, 'australia', 'grape')"
      ]
     },
     "execution_count": 28,
     "metadata": {},
     "output_type": "execute_result"
    }
   ],
   "source": [
    "return_cosine_sim(1,4)\n",
    "\n",
    "# HERE THERE ARE UNEXPECTED SIMILARITIES AS WHEN THEY TRAIN ON WIKEPIDEA TEXT, CONTEXT MATTERS. HERE WE ARE SIMPLY GIVING THE WORDS "
   ]
  },
  {
   "cell_type": "code",
   "execution_count": null,
   "metadata": {},
   "outputs": [
    {
     "name": "stdout",
     "output_type": "stream",
     "text": [
      "Model: \"model_10\"\n",
      "__________________________________________________________________________________________________\n",
      " Layer (type)                   Output Shape         Param #     Connected to                     \n",
      "==================================================================================================\n",
      " texter (InputLayer)            [(None,)]            0           []                               \n",
      "                                                                                                  \n",
      " keras_layer (KerasLayer)       {'input_word_ids':   0           ['texter[0][0]']                 \n",
      "                                (None, 128),                                                      \n",
      "                                 'input_mask': (Non                                               \n",
      "                                e, 128),                                                          \n",
      "                                 'input_type_ids':                                                \n",
      "                                (None, 128)}                                                      \n",
      "                                                                                                  \n",
      " keras_layer_1 (KerasLayer)     {'sequence_output':  109482241   ['keras_layer[14][0]',           \n",
      "                                 (None, 128, 768),                'keras_layer[14][1]',           \n",
      "                                 'pooled_output': (               'keras_layer[14][2]']           \n",
      "                                None, 768),                                                       \n",
      "                                 'encoder_outputs':                                               \n",
      "                                 [(None, 128, 768),                                               \n",
      "                                 (None, 128, 768),                                                \n",
      "                                 (None, 128, 768),                                                \n",
      "                                 (None, 128, 768),                                                \n",
      "                                 (None, 128, 768),                                                \n",
      "                                 (None, 128, 768),                                                \n",
      "                                 (None, 128, 768),                                                \n",
      "                                 (None, 128, 768),                                                \n",
      "                                 (None, 128, 768),                                                \n",
      "                                 (None, 128, 768),                                                \n",
      "                                 (None, 128, 768),                                                \n",
      "                                 (None, 128, 768)],                                               \n",
      "                                 'default': (None,                                                \n",
      "                                768)}                                                             \n",
      "                                                                                                  \n",
      " dropout (Dropout)              (None, 768)          0           ['keras_layer_1[14][13]']        \n",
      "                                                                                                  \n",
      " output (Dense)                 (None, 1)            769         ['dropout[0][0]']                \n",
      "                                                                                                  \n",
      "==================================================================================================\n",
      "Total params: 109,483,010\n",
      "Trainable params: 769\n",
      "Non-trainable params: 109,482,241\n",
      "__________________________________________________________________________________________________\n"
     ]
    }
   ],
   "source": [
    "# FUNCTIONAL TENSORFLOW MODEL RATHER THAN SEQUENTIAL \n",
    "\n",
    "\n",
    "# import keras\n",
    "\n",
    "# text_input = keras.layers.Input(shape=(),dtype=tf.string,name=\"texter\")\n",
    "# preprocessed_text = bert_preprocessor(text_input)\n",
    "# outputs = bert_model(preprocessed_text)\n",
    "# dr = keras.layers.Dropout(0.1, name=\"dropout\")(outputs['pooled_output'])\n",
    "# keras.layers.Dense(1,activation=\"sigmoid\",name=\"output\")(dr)\n",
    "\n",
    "# keras.Model(inputs = [text_input], outputs = [1])\n",
    "# ERROR ABOVE CODE SEGMENT\n",
    "\n",
    "\n",
    "\n",
    "\n",
    "# text_input = tf.keras.layers.Input(shape=(),dtype=tf.string,name=\"texter\")\n",
    "# preprocessed_text = bert_preprocessor(text_input)\n",
    "# outputs = bert_model(preprocessed_text)\n",
    "# dr = tf.keras.layers.Dropout(0.1, name=\"dropout\")(outputs['pooled_output'])\n",
    "# tf.keras.layers.Dense(1,activation=\"sigmoid\",name=\"output\")(dr)\n",
    "\n",
    "# tf.keras.Model(inputs = [text_input], outputs = [1])\n",
    "# ERROR ABOVE CODE SEGMENT\n",
    "\n",
    "\n",
    "\n",
    "\n",
    "# import tf_keras\n",
    "# text_input = tf_keras.layers.Input(shape=(),dtype=tf.string,name=\"texter\")\n",
    "# preprocessed_text = bert_preprocessor(text_input)\n",
    "# outputs = bert_model(preprocessed_text)\n",
    "# dr = tf_keras.layers.Dropout(0.1, name=\"dropout\")(outputs['pooled_output'])\n",
    "# tf_keras.layers.Dense(1,activation=\"sigmoid\",name=\"output\")(dr)\n",
    "\n",
    "# tf_keras.Model(inputs = [text_input], outputs = [1])\n",
    "# ERROR ABOVE CODE SEGMENT\n",
    "\n",
    "\n",
    "\n",
    "\n",
    "from keras import layers, Model, metrics\n",
    "\n",
    "text_input = layers.Input(shape=(), dtype=tf.string, name=\"texter\")\n",
    "preprocessed_text = bert_preprocessor(text_input)\n",
    "output = bert_model(preprocessed_text)\n",
    "dr = layers.Dropout(0.1, name=\"dropout\")(output['pooled_output'])\n",
    "final_output = layers.Dense(1, activation=\"sigmoid\", name=\"output\")(dr)\n",
    "model = Model(inputs=[text_input], outputs=[final_output])\n",
    "model.summary()\n",
    "\n",
    "\n",
    "# from tensorflow.keras import Sequential, layers\n",
    "\n",
    "# model = Sequential([\n",
    "#     layers.Input(shape=(), dtype=tf.string, name=\"texter\"),  # Input Layer\n",
    "#     layers.Lambda(lambda x: bert_preprocessor(x), name=\"preprocessor\"),  # Preprocessing (via Lambda layer)\n",
    "#     layers.Lambda(lambda x: bert_model(x)['pooled_output'], name=\"bert_model\"),  # BERT Model\n",
    "#     layers.Dropout(0.1, name=\"dropout\"),  # Dropout Layer\n",
    "#     layers.Dense(1, activation=\"sigmoid\", name=\"output\"),  # Output Layer\n",
    "# ])\n",
    "# DEMONSTRATION FOR HOW SEQUENTIAL FAILS FOR MULTI OUTPUT MODELS LIKE BERT"
   ]
  },
  {
   "cell_type": "code",
   "execution_count": 51,
   "metadata": {},
   "outputs": [
    {
     "name": "stdout",
     "output_type": "stream",
     "text": [
      "Epoch 1/10\n",
      "35/35 [==============================] - 204s 6s/step - loss: 0.6130 - accuracy: 0.7000 - precision: 0.7179 - recall: 0.6589\n",
      "Epoch 2/10\n",
      "35/35 [==============================] - 219s 6s/step - loss: 0.5016 - accuracy: 0.8196 - precision: 0.8034 - recall: 0.8464\n",
      "Epoch 3/10\n",
      "35/35 [==============================] - 285s 8s/step - loss: 0.4372 - accuracy: 0.8536 - precision: 0.8462 - recall: 0.8643\n",
      "Epoch 4/10\n",
      "35/35 [==============================] - 193s 6s/step - loss: 0.3938 - accuracy: 0.8661 - precision: 0.8596 - recall: 0.8750\n",
      "Epoch 5/10\n",
      "35/35 [==============================] - 1565s 46s/step - loss: 0.3580 - accuracy: 0.8857 - precision: 0.8763 - recall: 0.8982\n",
      "Epoch 6/10\n",
      "35/35 [==============================] - 219s 6s/step - loss: 0.3446 - accuracy: 0.8813 - precision: 0.8739 - recall: 0.8911\n",
      "Epoch 7/10\n",
      "35/35 [==============================] - 210s 6s/step - loss: 0.3188 - accuracy: 0.9036 - precision: 0.8924 - recall: 0.9179\n",
      "Epoch 8/10\n",
      "35/35 [==============================] - 206s 6s/step - loss: 0.3052 - accuracy: 0.8955 - precision: 0.8920 - recall: 0.9000\n",
      "Epoch 9/10\n",
      "35/35 [==============================] - 208s 6s/step - loss: 0.2892 - accuracy: 0.8991 - precision: 0.8873 - recall: 0.9143\n",
      "Epoch 10/10\n",
      "35/35 [==============================] - 207s 6s/step - loss: 0.2770 - accuracy: 0.9071 - precision: 0.9014 - recall: 0.9143\n"
     ]
    },
    {
     "data": {
      "text/plain": [
       "<keras.callbacks.History at 0x16f8538cf40>"
      ]
     },
     "execution_count": 51,
     "metadata": {},
     "output_type": "execute_result"
    }
   ],
   "source": [
    "METRICS = [\n",
    "    metrics.BinaryAccuracy(name=\"accuracy\"),\n",
    "    metrics.Precision(name=\"precision\"),\n",
    "    metrics.Recall(name=\"recall\")\n",
    "]\n",
    "\n",
    "model.compile(\n",
    "    optimizer=\"adam\",\n",
    "    loss='binary_crossentropy',\n",
    "    metrics=METRICS\n",
    ")\n",
    "\n",
    "model.fit(x_train,y_train,epochs=10)"
   ]
  },
  {
   "cell_type": "code",
   "execution_count": 52,
   "metadata": {},
   "outputs": [
    {
     "name": "stderr",
     "output_type": "stream",
     "text": [
      "WARNING:absl:Found untraced functions such as restored_function_body, restored_function_body, restored_function_body, restored_function_body, restored_function_body while saving (showing 5 of 366). These functions will not be directly callable after loading.\n"
     ]
    },
    {
     "name": "stdout",
     "output_type": "stream",
     "text": [
      "INFO:tensorflow:Assets written to: my_email_spam_classifier\\assets\n"
     ]
    },
    {
     "name": "stderr",
     "output_type": "stream",
     "text": [
      "INFO:tensorflow:Assets written to: my_email_spam_classifier\\assets\n"
     ]
    }
   ],
   "source": [
    "model.save(\"my_email_spam_classifier\")"
   ]
  },
  {
   "cell_type": "code",
   "execution_count": 55,
   "metadata": {},
   "outputs": [
    {
     "name": "stdout",
     "output_type": "stream",
     "text": [
      "12/12 [==============================] - 67s 6s/step\n"
     ]
    }
   ],
   "source": [
    "from sklearn.metrics import classification_report\n",
    "import numpy as np\n",
    "\n",
    "y_predicted = model.predict(x_test)\n",
    "y_predicted = np.where(y_predicted>0.5,1,0)"
   ]
  },
  {
   "cell_type": "code",
   "execution_count": 57,
   "metadata": {},
   "outputs": [
    {
     "name": "stdout",
     "output_type": "stream",
     "text": [
      "              precision    recall  f1-score   support\n",
      "\n",
      "           0       0.95      0.87      0.91       187\n",
      "           1       0.88      0.96      0.92       187\n",
      "\n",
      "    accuracy                           0.91       374\n",
      "   macro avg       0.92      0.91      0.91       374\n",
      "weighted avg       0.92      0.91      0.91       374\n",
      "\n"
     ]
    },
    {
     "data": {
      "image/png": "[encoded data removed]",
      "text/plain": [
       "<Figure size 640x480 with 2 Axes>"
      ]
     },
     "metadata": {},
     "output_type": "display_data"
    }
   ],
   "source": [
    "import seaborn as sn\n",
    "import matplotlib.pyplot as plt\n",
    "\n",
    "c_report = classification_report(y_test,y_predicted)\n",
    "\n",
    "c_matrix = tf.math.confusion_matrix(y_test,y_predicted)\n",
    "sn.heatmap(c_matrix,annot=True,fmt=\"d\")\n",
    "plt.xlabel(\"PREDICTED\")\n",
    "plt.ylabel(\"ACTUAL\")\n",
    "\n",
    "print(c_report)"
   ]
  },
  {
   "cell_type": "code",
   "execution_count": 59,
   "metadata": {},
   "outputs": [
    {
     "name": "stdout",
     "output_type": "stream",
     "text": [
      "1/1 [==============================] - 1s 1s/step\n"
     ]
    },
    {
     "data": {
      "text/plain": [
       "array([[0.73905975],\n",
       "       [0.8506702 ],\n",
       "       [0.8078605 ],\n",
       "       [0.20965324],\n",
       "       [0.11544293],\n",
       "       [0.51945525],\n",
       "       [0.16804007]], dtype=float32)"
      ]
     },
     "execution_count": 59,
     "metadata": {},
     "output_type": "execute_result"
    }
   ],
   "source": [
    "reviews = [\n",
    "    'Enter a chance to win $5000, hurry up, offer valid until march 31, 2021',\n",
    "    'You are awarded a SiPix Digital Camera! call 09061221061 from landline. Delivery within 28days. T Cs Box177. M221BP. 2yr warranty. 150ppm. 16 . p pÂ£3.99',\n",
    "    'it to 80488. Your 500 free text messages are valid until 31 December 2005.',\n",
    "    'Hey Sam, Are you coming for a cricket game tomorrow',\n",
    "    \"Why don't you wait 'til at least wednesday to see if you get your .\",\n",
    "    \"New Badge Received. Congratulations, you've received 2 Years on Kaggle badge\",\n",
    "    \"Did you know that most jobs get filled by referral? Share your resume online and let everybody know that you're open to new job offers.\"\n",
    "]\n",
    "model.predict(reviews)"
   ]
  }
 ],
 "metadata": {
  "kernelspec": {
   "display_name": "Python 3",
   "language": "python",
   "name": "python3"
  },
  "language_info": {
   "codemirror_mode": {
    "name": "ipython",
    "version": 3
   },
   "file_extension": ".py",
   "mimetype": "text/x-python",
   "name": "python",
   "nbconvert_exporter": "python",
   "pygments_lexer": "ipython3",
   "version": "3.10.0"
  }
 },
 "nbformat": 4,
 "nbformat_minor": 2
}
